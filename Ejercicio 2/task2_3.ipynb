{
 "cells": [
  {
   "cell_type": "markdown",
   "metadata": {},
   "source": [
    "### Ejercicio 2.3\n",
    "Usted es gerente de producción en una empresa que fabrica tres tipos de productos: Producto A, Producto B y\n",
    "Producto C. Cada producto requiere diferentes cantidades de materias primas, mano de obra y tiempo de máquina\n",
    "para producir. Tiene recursos limitados para materias primas, mano de obra y tiempo de máquina, y desea\n",
    "optimizar la combinación de producción para maximizar las ganancias de su empresa. Usted sabe lo siguiente:\n",
    "\n",
    "● Producto A:\n",
    "○ Requiere 2 unidades de materias primas, 3 horas de mano de obra y 4 horas de tiempo de máquina\n",
    "○ Se vende a $300 por unidad\n",
    "○ Cada unidad tiene un costo de $100\n",
    "\n",
    "● Producto B:\n",
    "○ Requiere 1 unidad de materia prima, 2 horas de mano de obra y 3 horas de tiempo de máquina\n",
    "○ Se vende a $ 500 por unidad\n",
    "○ Cada unidad tiene un costo de $200\n",
    "\n",
    "● Producto C:\n",
    "○ Requiere 3 unidades de materias primas, 4 horas de mano de obra y 6 horas de tiempo de máquina\n",
    "○ Se vende a $700 por unidad\n",
    "○ Cada unidad tiene un costo de $200\n",
    "\n",
    "Usted tiene 100 unidades de materias primas, 120 horas de mano de obra y 150 horas de tiempo de máquina\n",
    "disponibles. Formule esto como un problema de programación lineal y resuélvalo para encontrar las cantidades de\n",
    "producción óptimas para obtener el máximo beneficio"
   ]
  },
  {
   "cell_type": "markdown",
   "metadata": {},
   "source": [
    "#### Escriba un script en Python o en otro lenguaje de programación de su preferencia y responda\n",
    "1. Escriba la fórmula de la función que debe maximizar\n",
    "\n",
    "        Se necesita maximizar la ganancia (precio de venta menos costo) para cada producto.\n",
    "\n",
    "        Ganancia=(300−100)x+(500−200)y+(700−200)z\n",
    "\n",
    "        x es la cantidad de Producto A a producir\n",
    "        y es la cantidad de Producto B a producir\n",
    "        z es la cantidad de Producto C a producir\n",
    "\n",
    "        La función a maximizar es:\n",
    "\n",
    "        Maximizef(x,y,z)=200x+300y+500z\n",
    "\n",
    "2. Escriba la fórmula de cada una de las restricciones, recuerde incluir la restricción de no-negatividad\n",
    "\n",
    "        a. Materias primas:\n",
    "        2x+y+3z≤100\n",
    "\n",
    "        b. Mano de obra:\n",
    "        3x+2y+4z≤120\n",
    "\n",
    "        c. Tiempo de máquina:\n",
    "        4x+3y+6z≤150\n",
    "\n",
    "        d. Restricciones de no-negatividad:\n",
    "        x,y,z≥0\n"
   ]
  },
  {
   "cell_type": "code",
   "execution_count": 3,
   "metadata": {},
   "outputs": [
    {
     "name": "stdout",
     "output_type": "stream",
     "text": [
      "Producto A: 0.00 unidades\n",
      "Producto B: 50.00 unidades\n",
      "Producto C: 0.00 unidades\n",
      "Ganancia máxima: $15000.00\n"
     ]
    }
   ],
   "source": [
    "from scipy.optimize import linprog\n",
    "\n",
    "# Coeficientes de la función objetivo\n",
    "c = [-200, -300, -500]  # Se utilizan valores negativos porque linprog trata de minimizar\n",
    "\n",
    "# Matriz de coeficientes de las restricciones\n",
    "A = [\n",
    "    [2, 1, 3],  # materias primas\n",
    "    [3, 2, 4],  # mano de obra\n",
    "    [4, 3, 6]   # tiempo de máquina\n",
    "]\n",
    "\n",
    "# Lado derecho de las restricciones\n",
    "b = [100, 120, 150]\n",
    "\n",
    "# Restricciones de no-negatividad\n",
    "x0_bounds = (0, None)  # Producto A\n",
    "x1_bounds = (0, None)  # Producto B\n",
    "x2_bounds = (0, None)  # Producto C\n",
    "\n",
    "# Resolviendo el problema\n",
    "result = linprog(c, A_ub=A, b_ub=b, bounds=[x0_bounds, x1_bounds, x2_bounds], method='highs')\n",
    "\n",
    "print(f\"Producto A: {result.x[0]:.2f} unidades\")\n",
    "print(f\"Producto B: {result.x[1]:.2f} unidades\")\n",
    "print(f\"Producto C: {result.x[2]:.2f} unidades\")\n",
    "print(f\"Ganancia máxima: ${-result.fun:.2f}\")\n"
   ]
  }
 ],
 "metadata": {
  "kernelspec": {
   "display_name": "Python 3",
   "language": "python",
   "name": "python3"
  },
  "language_info": {
   "codemirror_mode": {
    "name": "ipython",
    "version": 3
   },
   "file_extension": ".py",
   "mimetype": "text/x-python",
   "name": "python",
   "nbconvert_exporter": "python",
   "pygments_lexer": "ipython3",
   "version": "3.10.4"
  },
  "orig_nbformat": 4
 },
 "nbformat": 4,
 "nbformat_minor": 2
}
